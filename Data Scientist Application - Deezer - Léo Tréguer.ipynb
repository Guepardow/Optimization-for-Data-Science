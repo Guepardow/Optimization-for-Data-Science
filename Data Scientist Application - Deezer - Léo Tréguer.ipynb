{
 "cells": [
  {
   "cell_type": "markdown",
   "metadata": {},
   "source": [
    "## Library & Datasets Import"
   ]
  },
  {
   "cell_type": "code",
   "execution_count": 140,
   "metadata": {
    "collapsed": true
   },
   "outputs": [],
   "source": [
    "import pandas as pd\n",
    "import datetime\n",
    "import matplotlib.pyplot as plt\n",
    "import datetime\n",
    "import time\n",
    "import numpy as np\n",
    "\n",
    "import networkx as nx\n",
    "import community"
   ]
  },
  {
   "cell_type": "code",
   "execution_count": 141,
   "metadata": {
    "collapsed": true
   },
   "outputs": [],
   "source": [
    "import chardet\n",
    "\n",
    "artists=pd.read_table(\"artists.dat\")\n",
    "\n",
    "user_artists=pd.read_table(\"user_artists.dat\")\n",
    "user_friends=pd.read_table(\"user_friends.dat\")\n",
    "user_taggedartists=pd.read_table(\"user_taggedartists.dat\")\n",
    "user_taggedartists_timestamps=pd.read_table(\"user_taggedartists-timestamps.dat\")\n",
    "\n",
    "with open('tags.dat', 'rb') as f:\n",
    "    result = chardet.detect(f.read())\n",
    "    \n",
    "tags=pd.read_table(\"tags.dat\",encoding=result['encoding'])"
   ]
  },
  {
   "cell_type": "markdown",
   "metadata": {},
   "source": [
    "## Main figures of the datasets"
   ]
  },
  {
   "cell_type": "markdown",
   "metadata": {},
   "source": [
    "#### Artists.dat"
   ]
  },
  {
   "cell_type": "code",
   "execution_count": 142,
   "metadata": {
    "collapsed": false
   },
   "outputs": [
    {
     "data": {
      "text/html": [
       "<div>\n",
       "<table border=\"1\" class=\"dataframe\">\n",
       "  <thead>\n",
       "    <tr style=\"text-align: right;\">\n",
       "      <th></th>\n",
       "      <th>artistID</th>\n",
       "      <th>artistname</th>\n",
       "    </tr>\n",
       "  </thead>\n",
       "  <tbody>\n",
       "    <tr>\n",
       "      <th>0</th>\n",
       "      <td>1</td>\n",
       "      <td>MALICE MIZER</td>\n",
       "    </tr>\n",
       "    <tr>\n",
       "      <th>1</th>\n",
       "      <td>2</td>\n",
       "      <td>Diary of Dreams</td>\n",
       "    </tr>\n",
       "  </tbody>\n",
       "</table>\n",
       "</div>"
      ],
      "text/plain": [
       "   artistID       artistname\n",
       "0         1     MALICE MIZER\n",
       "1         2  Diary of Dreams"
      ]
     },
     "execution_count": 142,
     "metadata": {},
     "output_type": "execute_result"
    }
   ],
   "source": [
    "#Drop useless data\n",
    "artists=artists.drop(['url','pictureURL'],axis=1)\n",
    "artists=artists.rename(columns={'id': 'artistID','name':'artistname'})\n",
    "artists.head(2)"
   ]
  },
  {
   "cell_type": "code",
   "execution_count": 143,
   "metadata": {
    "collapsed": false
   },
   "outputs": [
    {
     "name": "stdout",
     "output_type": "stream",
     "text": [
      "Total number of Artists on Last.fm :  17632\n"
     ]
    }
   ],
   "source": [
    "print(\"Total number of Artists on Last.fm : \",len(artists.artistname.unique()))"
   ]
  },
  {
   "cell_type": "markdown",
   "metadata": {},
   "source": [
    "#### User_artists.dat"
   ]
  },
  {
   "cell_type": "code",
   "execution_count": 144,
   "metadata": {
    "collapsed": false
   },
   "outputs": [
    {
     "data": {
      "text/html": [
       "<div>\n",
       "<table border=\"1\" class=\"dataframe\">\n",
       "  <thead>\n",
       "    <tr style=\"text-align: right;\">\n",
       "      <th></th>\n",
       "      <th>userID</th>\n",
       "      <th>artistID</th>\n",
       "      <th>weight</th>\n",
       "      <th>artistname</th>\n",
       "    </tr>\n",
       "  </thead>\n",
       "  <tbody>\n",
       "    <tr>\n",
       "      <th>0</th>\n",
       "      <td>2</td>\n",
       "      <td>51</td>\n",
       "      <td>13883</td>\n",
       "      <td>Duran Duran</td>\n",
       "    </tr>\n",
       "    <tr>\n",
       "      <th>1</th>\n",
       "      <td>2</td>\n",
       "      <td>52</td>\n",
       "      <td>11690</td>\n",
       "      <td>Morcheeba</td>\n",
       "    </tr>\n",
       "  </tbody>\n",
       "</table>\n",
       "</div>"
      ],
      "text/plain": [
       "   userID  artistID  weight   artistname\n",
       "0       2        51   13883  Duran Duran\n",
       "1       2        52   11690    Morcheeba"
      ]
     },
     "execution_count": 144,
     "metadata": {},
     "output_type": "execute_result"
    }
   ],
   "source": [
    "user_artists=user_artists.join(artists.set_index('artistID'), on='artistID')\n",
    "user_artists.head(2)"
   ]
  },
  {
   "cell_type": "code",
   "execution_count": 145,
   "metadata": {
    "collapsed": false
   },
   "outputs": [
    {
     "name": "stdout",
     "output_type": "stream",
     "text": [
      "Number of bidirectional users - artists relationship : 92834\n",
      "Number of users in the dataset : 1892\n",
      "Number of artists in the dataset : 17632\n",
      "Average user-artist weight : 745.2439300256372\n",
      "Number of artists :  17632\n"
     ]
    }
   ],
   "source": [
    "print(\"Number of bidirectional users - artists relationship :\",len(user_artists))\n",
    "print(\"Number of users in the dataset :\",len(user_artists.userID.unique()))\n",
    "print(\"Number of artists in the dataset :\",len(user_artists.artistID.unique()))\n",
    "print(\"Average user-artist weight :\", user_artists.weight.mean())\n",
    "print(\"Number of artists : \", len(user_artists.artistID.unique()))"
   ]
  },
  {
   "cell_type": "code",
   "execution_count": 146,
   "metadata": {
    "collapsed": false
   },
   "outputs": [
    {
     "name": "stdout",
     "output_type": "stream",
     "text": [
      "Top 10 Artists\n"
     ]
    },
    {
     "data": {
      "text/html": [
       "<div>\n",
       "<table border=\"1\" class=\"dataframe\">\n",
       "  <thead>\n",
       "    <tr style=\"text-align: right;\">\n",
       "      <th></th>\n",
       "      <th>artistname</th>\n",
       "      <th>weight</th>\n",
       "      <th>percentage of total</th>\n",
       "    </tr>\n",
       "  </thead>\n",
       "  <tbody>\n",
       "    <tr>\n",
       "      <th>2336</th>\n",
       "      <td>Britney Spears</td>\n",
       "      <td>2393140</td>\n",
       "      <td>0.034591</td>\n",
       "    </tr>\n",
       "    <tr>\n",
       "      <th>3998</th>\n",
       "      <td>Depeche Mode</td>\n",
       "      <td>1301308</td>\n",
       "      <td>0.018809</td>\n",
       "    </tr>\n",
       "    <tr>\n",
       "      <th>8352</th>\n",
       "      <td>Lady Gaga</td>\n",
       "      <td>1291387</td>\n",
       "      <td>0.018666</td>\n",
       "    </tr>\n",
       "    <tr>\n",
       "      <th>3023</th>\n",
       "      <td>Christina Aguilera</td>\n",
       "      <td>1058405</td>\n",
       "      <td>0.015298</td>\n",
       "    </tr>\n",
       "    <tr>\n",
       "      <th>11069</th>\n",
       "      <td>Paramore</td>\n",
       "      <td>963449</td>\n",
       "      <td>0.013926</td>\n",
       "    </tr>\n",
       "    <tr>\n",
       "      <th>9130</th>\n",
       "      <td>Madonna</td>\n",
       "      <td>921198</td>\n",
       "      <td>0.013315</td>\n",
       "    </tr>\n",
       "    <tr>\n",
       "      <th>12072</th>\n",
       "      <td>Rihanna</td>\n",
       "      <td>905423</td>\n",
       "      <td>0.013087</td>\n",
       "    </tr>\n",
       "    <tr>\n",
       "      <th>12818</th>\n",
       "      <td>Shakira</td>\n",
       "      <td>688529</td>\n",
       "      <td>0.009952</td>\n",
       "    </tr>\n",
       "    <tr>\n",
       "      <th>14109</th>\n",
       "      <td>The Beatles</td>\n",
       "      <td>662116</td>\n",
       "      <td>0.009570</td>\n",
       "    </tr>\n",
       "    <tr>\n",
       "      <th>7913</th>\n",
       "      <td>Katy Perry</td>\n",
       "      <td>532545</td>\n",
       "      <td>0.007698</td>\n",
       "    </tr>\n",
       "  </tbody>\n",
       "</table>\n",
       "</div>"
      ],
      "text/plain": [
       "               artistname   weight  percentage of total\n",
       "2336       Britney Spears  2393140             0.034591\n",
       "3998         Depeche Mode  1301308             0.018809\n",
       "8352            Lady Gaga  1291387             0.018666\n",
       "3023   Christina Aguilera  1058405             0.015298\n",
       "11069            Paramore   963449             0.013926\n",
       "9130              Madonna   921198             0.013315\n",
       "12072             Rihanna   905423             0.013087\n",
       "12818             Shakira   688529             0.009952\n",
       "14109         The Beatles   662116             0.009570\n",
       "7913           Katy Perry   532545             0.007698"
      ]
     },
     "execution_count": 146,
     "metadata": {},
     "output_type": "execute_result"
    }
   ],
   "source": [
    "#Top Artists\n",
    "top_artists=user_artists[['artistname','weight']].groupby(['artistname']).sum().reset_index()\n",
    "top_artists=top_artists.sort_values(['weight'],ascending=False)\n",
    "top_artists['percentage of total']=top_artists['weight']/top_artists['weight'].sum()\n",
    "print(\"Top 10 Artists\")\n",
    "top_artists.head(10)"
   ]
  },
  {
   "cell_type": "code",
   "execution_count": 147,
   "metadata": {
    "collapsed": false
   },
   "outputs": [],
   "source": [
    "top__artists=top_artists[['artistname']].head(50)\n",
    "top50_artists=list(top__artists)\n"
   ]
  },
  {
   "cell_type": "markdown",
   "metadata": {},
   "source": [
    "#### User_friends.dat"
   ]
  },
  {
   "cell_type": "code",
   "execution_count": 148,
   "metadata": {
    "collapsed": false
   },
   "outputs": [
    {
     "data": {
      "text/html": [
       "<div>\n",
       "<table border=\"1\" class=\"dataframe\">\n",
       "  <thead>\n",
       "    <tr style=\"text-align: right;\">\n",
       "      <th></th>\n",
       "      <th>userID</th>\n",
       "      <th>friendID</th>\n",
       "    </tr>\n",
       "  </thead>\n",
       "  <tbody>\n",
       "    <tr>\n",
       "      <th>0</th>\n",
       "      <td>2</td>\n",
       "      <td>275</td>\n",
       "    </tr>\n",
       "    <tr>\n",
       "      <th>1</th>\n",
       "      <td>2</td>\n",
       "      <td>428</td>\n",
       "    </tr>\n",
       "  </tbody>\n",
       "</table>\n",
       "</div>"
      ],
      "text/plain": [
       "   userID  friendID\n",
       "0       2       275\n",
       "1       2       428"
      ]
     },
     "execution_count": 148,
     "metadata": {},
     "output_type": "execute_result"
    }
   ],
   "source": [
    "user_friends.head(2)"
   ]
  },
  {
   "cell_type": "code",
   "execution_count": 149,
   "metadata": {
    "collapsed": false
   },
   "outputs": [
    {
     "name": "stdout",
     "output_type": "stream",
     "text": [
      "Name: \n",
      "Type: Graph\n",
      "Number of nodes: 1892\n",
      "Number of edges: 12717\n",
      "Average degree:  13.4429\n"
     ]
    }
   ],
   "source": [
    "G=nx.from_pandas_dataframe(user_friends,'userID','friendID')\n",
    "print(nx.info(G))"
   ]
  },
  {
   "cell_type": "code",
   "execution_count": 150,
   "metadata": {
    "collapsed": false
   },
   "outputs": [
    {
     "data": {
      "image/png": "[encoded data removed]",
      "text/plain": [
       "<matplotlib.figure.Figure at 0x2548410d6a0>"
      ]
     },
     "metadata": {},
     "output_type": "display_data"
    }
   ],
   "source": [
    "#Quick Visualisation\n",
    "spring_pos=nx.spring_layout(G)\n",
    "plt.axis(\"off\")\n",
    "nx.draw_networkx(G,pos=spring_pos,with_labels=False,node_size=35)\n",
    "plt.title(\"Network of the dataset's users\")\n",
    "plt.show()"
   ]
  },
  {
   "cell_type": "code",
   "execution_count": 152,
   "metadata": {
    "collapsed": false
   },
   "outputs": [
    {
     "name": "stdout",
     "output_type": "stream",
     "text": [
      "Fraction of nodes in GCC:  0.9741014799154334\n",
      "Fraction of edges in GCC:  0.9961468899897775\n"
     ]
    }
   ],
   "source": [
    "#Fraction of nodes and edges in the largest connected component \"GCC\" \n",
    "print (\"Fraction of nodes in GCC: \", GCC.number_of_nodes() / G.number_of_nodes())\n",
    "print (\"Fraction of edges in GCC: \", GCC.number_of_edges() / G.number_of_edges())"
   ]
  },
  {
   "cell_type": "markdown",
   "metadata": {},
   "source": [
    "#### Tags.dat\n"
   ]
  },
  {
   "cell_type": "code",
   "execution_count": 153,
   "metadata": {
    "collapsed": false
   },
   "outputs": [
    {
     "data": {
      "text/html": [
       "<div>\n",
       "<table border=\"1\" class=\"dataframe\">\n",
       "  <thead>\n",
       "    <tr style=\"text-align: right;\">\n",
       "      <th></th>\n",
       "      <th>tagID</th>\n",
       "      <th>tagValue</th>\n",
       "    </tr>\n",
       "  </thead>\n",
       "  <tbody>\n",
       "    <tr>\n",
       "      <th>0</th>\n",
       "      <td>1</td>\n",
       "      <td>metal</td>\n",
       "    </tr>\n",
       "    <tr>\n",
       "      <th>1</th>\n",
       "      <td>2</td>\n",
       "      <td>alternative metal</td>\n",
       "    </tr>\n",
       "  </tbody>\n",
       "</table>\n",
       "</div>"
      ],
      "text/plain": [
       "   tagID           tagValue\n",
       "0      1              metal\n",
       "1      2  alternative metal"
      ]
     },
     "execution_count": 153,
     "metadata": {},
     "output_type": "execute_result"
    }
   ],
   "source": [
    "tags.head(2)"
   ]
  },
  {
   "cell_type": "code",
   "execution_count": 154,
   "metadata": {
    "collapsed": false
   },
   "outputs": [
    {
     "name": "stdout",
     "output_type": "stream",
     "text": [
      "Number of musical tags : 11946\n"
     ]
    }
   ],
   "source": [
    "print(\"Number of musical tags :\",len(tags.tagValue.unique()))"
   ]
  },
  {
   "cell_type": "markdown",
   "metadata": {},
   "source": [
    "#### User_taggedartists.dat"
   ]
  },
  {
   "cell_type": "code",
   "execution_count": 155,
   "metadata": {
    "collapsed": false
   },
   "outputs": [
    {
     "data": {
      "text/html": [
       "<div>\n",
       "<table border=\"1\" class=\"dataframe\">\n",
       "  <thead>\n",
       "    <tr style=\"text-align: right;\">\n",
       "      <th></th>\n",
       "      <th>tagID</th>\n",
       "      <th>tagValue</th>\n",
       "      <th>userID</th>\n",
       "      <th>artistID</th>\n",
       "      <th>day</th>\n",
       "      <th>month</th>\n",
       "      <th>year</th>\n",
       "      <th>artistname</th>\n",
       "    </tr>\n",
       "  </thead>\n",
       "  <tbody>\n",
       "    <tr>\n",
       "      <th>459</th>\n",
       "      <td>1</td>\n",
       "      <td>metal</td>\n",
       "      <td>595</td>\n",
       "      <td>188</td>\n",
       "      <td>1</td>\n",
       "      <td>8</td>\n",
       "      <td>2005</td>\n",
       "      <td>Opeth</td>\n",
       "    </tr>\n",
       "    <tr>\n",
       "      <th>460</th>\n",
       "      <td>1</td>\n",
       "      <td>metal</td>\n",
       "      <td>595</td>\n",
       "      <td>518</td>\n",
       "      <td>1</td>\n",
       "      <td>8</td>\n",
       "      <td>2005</td>\n",
       "      <td>Within Temptation</td>\n",
       "    </tr>\n",
       "  </tbody>\n",
       "</table>\n",
       "</div>"
      ],
      "text/plain": [
       "     tagID tagValue  userID  artistID  day  month  year         artistname\n",
       "459      1    metal     595       188    1      8  2005              Opeth\n",
       "460      1    metal     595       518    1      8  2005  Within Temptation"
      ]
     },
     "execution_count": 155,
     "metadata": {},
     "output_type": "execute_result"
    }
   ],
   "source": [
    "user_taggedartists=pd.read_table(\"user_taggedartists.dat\")\n",
    "\n",
    "#We add some information\n",
    "user_taggedartists=pd.merge(tags,user_taggedartists, left_on='tagID', right_on='tagID')\n",
    "user_taggedartists=user_taggedartists.join(artists.set_index('artistID'), on='artistID')\n",
    "user_taggedartists=user_taggedartists.sort_values(['year','month','day'],ascending=True)\n",
    "\n",
    "#There are incoherent dates in the dataset, we remove them\n",
    "user_taggedartists=user_taggedartists.loc[user_taggedartists['year']>=2005]\n",
    "user_taggedartists.head(2)"
   ]
  },
  {
   "cell_type": "code",
   "execution_count": 156,
   "metadata": {
    "collapsed": false
   },
   "outputs": [
    {
     "name": "stdout",
     "output_type": "stream",
     "text": [
      "Number of tagged Artists :  12523\n",
      "Number of music tags used :  9748\n",
      "Number of tags :  186474\n",
      "Number of users :  1892\n",
      "Average number of sounds per users :  98.55919661733616\n"
     ]
    }
   ],
   "source": [
    "print(\"Number of tagged Artists : \", len(user_taggedartists.artistID.unique()))\n",
    "print(\"Number of music tags used : \", len(user_taggedartists.tagID.unique()))\n",
    "print(\"Number of tags : \",len(user_taggedartists))\n",
    "print(\"Number of users : \", len(user_taggedartists.userID.unique()))\n",
    "print(\"Average number of sounds per users : \", len(user_taggedartists)/len(user_taggedartists.userID.unique()))"
   ]
  },
  {
   "cell_type": "code",
   "execution_count": 157,
   "metadata": {
    "collapsed": false
   },
   "outputs": [
    {
     "name": "stdout",
     "output_type": "stream",
     "text": [
      "Number of music tags in year  2005  :  232\n",
      "Number of music tags in year  2006  :  1004\n",
      "Number of music tags in year  2007  :  1716\n",
      "Number of music tags in year  2008  :  3232\n",
      "Number of music tags in year  2009  :  3491\n",
      "Number of music tags in year  2010  :  4150\n"
     ]
    }
   ],
   "source": [
    "years=user_taggedartists.year.unique()\n",
    "nb_years=len(years)\n",
    "for i in range (nb_years-1):\n",
    "    \n",
    "    x=user_taggedartists.loc[user_taggedartists['year']==years[i]]\n",
    "    nb=len(x.tagID.unique())\n",
    "    print(\"Number of music tags in year \",years[i],\" : \",nb)"
   ]
  },
  {
   "cell_type": "markdown",
   "metadata": {},
   "source": [
    "We notice that the most recent the year, the more important the number of music tags used is."
   ]
  },
  {
   "cell_type": "markdown",
   "metadata": {},
   "source": [
    "## Study of Tags"
   ]
  },
  {
   "cell_type": "code",
   "execution_count": 158,
   "metadata": {
    "collapsed": false
   },
   "outputs": [
    {
     "name": "stdout",
     "output_type": "stream",
     "text": [
      "Top 10 tags\n",
      "                  tagValue  frequency\n",
      "rock                  7503   0.040236\n",
      "pop                   5418   0.029055\n",
      "alternative           5251   0.028159\n",
      "electronic            4672   0.025054\n",
      "indie                 4458   0.023907\n",
      "female vocalists      4228   0.022673\n",
      "80s                   2791   0.014967\n",
      "dance                 2738   0.014683\n",
      "alternative rock      2631   0.014109\n",
      "classic rock          2287   0.012264\n"
     ]
    }
   ],
   "source": [
    "#Top Tags among the dataset\n",
    "top_tags=pd.DataFrame(user_taggedartists['tagValue'].value_counts())\n",
    "top_tags['frequency']=top_tags['tagValue']/top_tags['tagValue'].sum()\n",
    "print(\"Top 10 tags\")\n",
    "print(top_tags[:10])\n",
    "#top_tags.head()"
   ]
  },
  {
   "cell_type": "code",
   "execution_count": 159,
   "metadata": {
    "collapsed": false
   },
   "outputs": [
    {
     "data": {
      "text/html": [
       "<div>\n",
       "<table border=\"1\" class=\"dataframe\">\n",
       "  <thead>\n",
       "    <tr style=\"text-align: right;\">\n",
       "      <th></th>\n",
       "      <th>tagValue</th>\n",
       "      <th>frequency</th>\n",
       "    </tr>\n",
       "  </thead>\n",
       "  <tbody>\n",
       "    <tr>\n",
       "      <th>rock</th>\n",
       "      <td>7503</td>\n",
       "      <td>0.040236</td>\n",
       "    </tr>\n",
       "    <tr>\n",
       "      <th>pop</th>\n",
       "      <td>5418</td>\n",
       "      <td>0.029055</td>\n",
       "    </tr>\n",
       "    <tr>\n",
       "      <th>alternative</th>\n",
       "      <td>5251</td>\n",
       "      <td>0.028159</td>\n",
       "    </tr>\n",
       "    <tr>\n",
       "      <th>electronic</th>\n",
       "      <td>4672</td>\n",
       "      <td>0.025054</td>\n",
       "    </tr>\n",
       "    <tr>\n",
       "      <th>indie</th>\n",
       "      <td>4458</td>\n",
       "      <td>0.023907</td>\n",
       "    </tr>\n",
       "    <tr>\n",
       "      <th>female vocalists</th>\n",
       "      <td>4228</td>\n",
       "      <td>0.022673</td>\n",
       "    </tr>\n",
       "    <tr>\n",
       "      <th>80s</th>\n",
       "      <td>2791</td>\n",
       "      <td>0.014967</td>\n",
       "    </tr>\n",
       "    <tr>\n",
       "      <th>dance</th>\n",
       "      <td>2738</td>\n",
       "      <td>0.014683</td>\n",
       "    </tr>\n",
       "    <tr>\n",
       "      <th>alternative rock</th>\n",
       "      <td>2631</td>\n",
       "      <td>0.014109</td>\n",
       "    </tr>\n",
       "    <tr>\n",
       "      <th>classic rock</th>\n",
       "      <td>2287</td>\n",
       "      <td>0.012264</td>\n",
       "    </tr>\n",
       "    <tr>\n",
       "      <th>british</th>\n",
       "      <td>2092</td>\n",
       "      <td>0.011219</td>\n",
       "    </tr>\n",
       "  </tbody>\n",
       "</table>\n",
       "</div>"
      ],
      "text/plain": [
       "                  tagValue  frequency\n",
       "rock                  7503   0.040236\n",
       "pop                   5418   0.029055\n",
       "alternative           5251   0.028159\n",
       "electronic            4672   0.025054\n",
       "indie                 4458   0.023907\n",
       "female vocalists      4228   0.022673\n",
       "80s                   2791   0.014967\n",
       "dance                 2738   0.014683\n",
       "alternative rock      2631   0.014109\n",
       "classic rock          2287   0.012264\n",
       "british               2092   0.011219"
      ]
     },
     "execution_count": 159,
     "metadata": {},
     "output_type": "execute_result"
    }
   ],
   "source": [
    "top_tags.head(11)"
   ]
  },
  {
   "cell_type": "code",
   "execution_count": 160,
   "metadata": {
    "collapsed": false
   },
   "outputs": [
    {
     "data": {
      "text/html": [
       "<div>\n",
       "<table border=\"1\" class=\"dataframe\">\n",
       "  <thead>\n",
       "    <tr style=\"text-align: right;\">\n",
       "      <th></th>\n",
       "      <th>tagValue</th>\n",
       "      <th>frequency</th>\n",
       "    </tr>\n",
       "  </thead>\n",
       "  <tbody>\n",
       "    <tr>\n",
       "      <th>incomparable</th>\n",
       "      <td>1</td>\n",
       "      <td>0.000005</td>\n",
       "    </tr>\n",
       "    <tr>\n",
       "      <th>80s rulez</th>\n",
       "      <td>1</td>\n",
       "      <td>0.000005</td>\n",
       "    </tr>\n",
       "    <tr>\n",
       "      <th>jamie t</th>\n",
       "      <td>1</td>\n",
       "      <td>0.000005</td>\n",
       "    </tr>\n",
       "    <tr>\n",
       "      <th>indie pop punk</th>\n",
       "      <td>1</td>\n",
       "      <td>0.000005</td>\n",
       "    </tr>\n",
       "    <tr>\n",
       "      <th>snow</th>\n",
       "      <td>1</td>\n",
       "      <td>0.000005</td>\n",
       "    </tr>\n",
       "  </tbody>\n",
       "</table>\n",
       "</div>"
      ],
      "text/plain": [
       "                tagValue  frequency\n",
       "incomparable           1   0.000005\n",
       "80s rulez              1   0.000005\n",
       "jamie t                1   0.000005\n",
       "indie pop punk         1   0.000005\n",
       "snow                   1   0.000005"
      ]
     },
     "execution_count": 160,
     "metadata": {},
     "output_type": "execute_result"
    }
   ],
   "source": [
    "#Exemple of rare tags :\n",
    "rare_tags=top_tags.loc[top_tags['tagValue']<=10]\n",
    "rare_tags.tail()"
   ]
  },
  {
   "cell_type": "code",
   "execution_count": 161,
   "metadata": {
    "collapsed": false
   },
   "outputs": [
    {
     "name": "stdout",
     "output_type": "stream",
     "text": [
      "Tags used 0  times or less :  0\n",
      "Tags used 1  times or less :  5372\n",
      "Tags used 2  times or less :  6479\n",
      "Tags used 3  times or less :  7084\n",
      "Tags used 4  times or less :  7443\n",
      "Tags used 5  times or less :  7674\n",
      "Tags used 6  times or less :  7886\n",
      "Tags used 7  times or less :  8045\n",
      "Tags used 8  times or less :  8156\n",
      "Tags used 9  times or less :  8255\n"
     ]
    }
   ],
   "source": [
    "#Rare tags \n",
    "for i in range (10):\n",
    "    no_tags=top_tags.loc[top_tags['tagValue']<=i]\n",
    "    print(\"Tags used\", i,\" times or less : \" ,len(no_tags))"
   ]
  },
  {
   "cell_type": "code",
   "execution_count": 162,
   "metadata": {
    "collapsed": false
   },
   "outputs": [],
   "source": [
    "#We exclude the tags used fewer than 10 times, as \"UNDEFINED\" tag\n",
    "rare_tags=top_tags.loc[top_tags['tagValue']<=10]\n",
    "rare_tags_list=rare_tags.index.unique()\n",
    "\n",
    "def exclude_rare_tags(row):\n",
    "    if row['tagValue'] in rare_tags_list:\n",
    "        val=\"UNDEFINED\"        \n",
    "    else : \n",
    "        val=row['tagValue']    \n",
    "    return val\n",
    "    \n",
    "user_taggedartists['tagValue']=user_taggedartists.apply(exclude_rare_tags,axis=1)"
   ]
  },
  {
   "cell_type": "code",
   "execution_count": 163,
   "metadata": {
    "collapsed": false
   },
   "outputs": [
    {
     "data": {
      "text/html": [
       "<div>\n",
       "<table border=\"1\" class=\"dataframe\">\n",
       "  <thead>\n",
       "    <tr style=\"text-align: right;\">\n",
       "      <th></th>\n",
       "      <th>userID</th>\n",
       "      <th>tagValue</th>\n",
       "      <th>nb_tags</th>\n",
       "    </tr>\n",
       "  </thead>\n",
       "  <tbody>\n",
       "    <tr>\n",
       "      <th>459</th>\n",
       "      <td>595</td>\n",
       "      <td>metal</td>\n",
       "      <td>8</td>\n",
       "    </tr>\n",
       "    <tr>\n",
       "      <th>1941</th>\n",
       "      <td>224</td>\n",
       "      <td>goth rock</td>\n",
       "      <td>45</td>\n",
       "    </tr>\n",
       "  </tbody>\n",
       "</table>\n",
       "</div>"
      ],
      "text/plain": [
       "      userID   tagValue  nb_tags\n",
       "459      595      metal        8\n",
       "1941     224  goth rock       45"
      ]
     },
     "execution_count": 163,
     "metadata": {},
     "output_type": "execute_result"
    }
   ],
   "source": [
    "#We count how many times a given user listened to a given music tags over the entire period\n",
    "def tag_listened(row):\n",
    "    x=user_taggedartists.loc[user_taggedartists['userID']==row['userID']]\n",
    "    val=len(x.tagValue.unique())\n",
    "    return val\n",
    "\n",
    "nb_tags_listened=user_taggedartists[['userID','tagValue']]\n",
    "nb_tags_listened=nb_tags_listened.drop_duplicates()\n",
    "nb_tags_listened['nb_tags']=nb_tags_listened.apply(tag_listened,axis=1)\n",
    "nb_tags_listened.head(2)"
   ]
  },
  {
   "cell_type": "code",
   "execution_count": 164,
   "metadata": {
    "collapsed": false
   },
   "outputs": [
    {
     "name": "stdout",
     "output_type": "stream",
     "text": [
      "An user listens in average to  14.2399577167  music tags\n"
     ]
    }
   ],
   "source": [
    "#We compute how many users listen to only 1 music genre, 2 music genres,...\n",
    "nb_tags_listened=nb_tags_listened[['userID','nb_tags']].drop_duplicates()\n",
    "tags_breakdown=pd.DataFrame(nb_tags_listened['nb_tags'].value_counts())\n",
    "compute=sum(tags_breakdown['nb_tags']*tags_breakdown.index)/tags_breakdown.sum()\n",
    "print(\"An user listens in average to \",compute[0], \" music tags\")"
   ]
  },
  {
   "cell_type": "code",
   "execution_count": 165,
   "metadata": {
    "collapsed": false
   },
   "outputs": [
    {
     "data": {
      "image/png": "[encoded data removed]",
      "text/plain": [
       "<matplotlib.figure.Figure at 0x254825415c0>"
      ]
     },
     "metadata": {},
     "output_type": "display_data"
    },
    {
     "name": "stdout",
     "output_type": "stream",
     "text": [
      "Here, about 180 users listen to 3 music tags exactly\n"
     ]
    }
   ],
   "source": [
    "x=tags_breakdown.index.values\n",
    "y=tags_breakdown['nb_tags'].values\n",
    "plt.bar(x,y)\n",
    "plt.title(\"Users/tag frequency\")\n",
    "plt.xlabel(\"Number of tags used per the user \")\n",
    "plt.ylabel(\"Number of users\")\n",
    "plt.show()\n",
    "\n",
    "print(\"Here, about 180 users listen to 3 music tags exactly\")"
   ]
  },
  {
   "cell_type": "code",
   "execution_count": null,
   "metadata": {
    "collapsed": true
   },
   "outputs": [],
   "source": []
  },
  {
   "cell_type": "markdown",
   "metadata": {},
   "source": [
    "Then, we compute the weight each user gives to a given music tag. \n",
    "\n",
    "For instance, if a user listens to 50 \"metal\" songs, his/her music weight for \"metal\" would be 50"
   ]
  },
  {
   "cell_type": "code",
   "execution_count": 166,
   "metadata": {
    "collapsed": false
   },
   "outputs": [
    {
     "data": {
      "text/html": [
       "<div>\n",
       "<table border=\"1\" class=\"dataframe\">\n",
       "  <thead>\n",
       "    <tr style=\"text-align: right;\">\n",
       "      <th></th>\n",
       "      <th>index</th>\n",
       "      <th>tagValue</th>\n",
       "      <th>userID</th>\n",
       "      <th>tagWeight</th>\n",
       "    </tr>\n",
       "  </thead>\n",
       "  <tbody>\n",
       "    <tr>\n",
       "      <th>0</th>\n",
       "      <td>459</td>\n",
       "      <td>metal</td>\n",
       "      <td>595</td>\n",
       "      <td>30</td>\n",
       "    </tr>\n",
       "    <tr>\n",
       "      <th>1</th>\n",
       "      <td>1941</td>\n",
       "      <td>goth rock</td>\n",
       "      <td>224</td>\n",
       "      <td>12</td>\n",
       "    </tr>\n",
       "    <tr>\n",
       "      <th>2</th>\n",
       "      <td>8164</td>\n",
       "      <td>new wave</td>\n",
       "      <td>1149</td>\n",
       "      <td>12</td>\n",
       "    </tr>\n",
       "  </tbody>\n",
       "</table>\n",
       "</div>"
      ],
      "text/plain": [
       "   index   tagValue  userID  tagWeight\n",
       "0    459      metal     595         30\n",
       "1   1941  goth rock     224         12\n",
       "2   8164   new wave    1149         12"
      ]
     },
     "execution_count": 166,
     "metadata": {},
     "output_type": "execute_result"
    }
   ],
   "source": [
    "users_genre_weight1=user_taggedartists[['tagValue','userID']]\n",
    "#users_genre_weight1=users_genre_weight1.head(10000)\n",
    "\n",
    "def tag_weight(row):\n",
    "    x=users_genre_weight1.loc[users_genre_weight1['userID']==row['userID']]\n",
    "    x=x.loc[x['tagValue']==row['tagValue']]\n",
    "    val=len(x)\n",
    "    return val\n",
    "\n",
    "users_genre_weight=users_genre_weight1.drop_duplicates().reset_index()\n",
    "users_genre_weight['tagWeight']=users_genre_weight.apply(tag_weight,axis=1)\n",
    "#users_genre_weight.drop(['index'])\n",
    "users_genre_weight.head(3)"
   ]
  },
  {
   "cell_type": "code",
   "execution_count": 167,
   "metadata": {
    "collapsed": false
   },
   "outputs": [
    {
     "data": {
      "text/plain": [
       "1892"
      ]
     },
     "execution_count": 167,
     "metadata": {},
     "output_type": "execute_result"
    }
   ],
   "source": [
    "len(users_genre_weight.userID.unique())"
   ]
  },
  {
   "cell_type": "code",
   "execution_count": 168,
   "metadata": {
    "collapsed": false
   },
   "outputs": [
    {
     "name": "stdout",
     "output_type": "stream",
     "text": [
      "['rock', 'pop', 'alternative', 'electronic', 'indie', 'female vocalists', '80s', 'dance', 'alternative rock', 'classic rock', 'british', 'indie rock', 'singer-songwriter', 'hard rock', 'experimental', 'metal', 'ambient', '90s', 'new wave', 'seen live', 'chillout', 'hip-hop', 'punk', 'folk', 'electronica', 'rnb', 'instrumental', 'heavy metal', 'soul', 'acoustic', 'progressive rock', '70s', 'jazz', 'soundtrack', 'male vocalists', 'industrial', 'trip-hop', 'metalcore', 'rap', 'synthpop', 'american', 'hardcore', 'indie pop', 'pop rock', '00s', 'britpop', 'post-punk', '60s', 'punk rock', 'blues', 'psychedelic', 'downtempo', 'beautiful', 'sexy', 'thrash metal', 'idm', 'post-rock', 'electro', 'awesome', 'love', 'mellow', 'cover', 'death metal', 'female vocalist', 'post-hardcore', 'brazilian', 'amazing', 'pop punk', 'country', 'ebm', 'progressive metal', 'emo', 'hip hop', 'piano', 'screamo', 'trance', 'funk', 'classical', 'nu metal', 'favorites', 'melodic death metal', 'gothic', 'grunge', 'house', 'german', 'female', 'canadian', 'power metal', 'techno', 'ballad', 'uk', '<3', 'love at first listen', 'cool', 'french', 'catchy', 'deathcore', 'japanese', 'synth pop', 'sad']\n"
     ]
    }
   ],
   "source": [
    "#We study only the top100 genres used, per frequency\n",
    "top100_genre=list(top_tags.head(100).index)\n",
    "print(top100_genre)"
   ]
  },
  {
   "cell_type": "code",
   "execution_count": 169,
   "metadata": {
    "collapsed": false
   },
   "outputs": [
    {
     "data": {
      "text/plain": [
       "1632"
      ]
     },
     "execution_count": 169,
     "metadata": {},
     "output_type": "execute_result"
    }
   ],
   "source": [
    "users_genre_weight3=users_genre_weight.loc[users_genre_weight['tagValue'].isin(top100_genre)]\n",
    "len(users_genre_weight3.userID.unique())"
   ]
  },
  {
   "cell_type": "markdown",
   "metadata": {},
   "source": [
    "We notice that a significant number of user do not listen to a top 50 genre, about 20% of them."
   ]
  },
  {
   "cell_type": "code",
   "execution_count": 170,
   "metadata": {
    "collapsed": false
   },
   "outputs": [
    {
     "name": "stdout",
     "output_type": "stream",
     "text": [
      "Name: \n",
      "Type: Graph\n",
      "Number of nodes: 1732\n",
      "Number of edges: 15240\n",
      "Average degree:  17.5982\n"
     ]
    }
   ],
   "source": [
    "G2=nx.from_pandas_dataframe(users_genre_weight3,'userID','tagValue',['tagWeight'])\n",
    "print(nx.info(G2))"
   ]
  },
  {
   "cell_type": "code",
   "execution_count": 171,
   "metadata": {
    "collapsed": false
   },
   "outputs": [
    {
     "data": {
      "image/png": "[encoded data removed]",
      "text/plain": [
       "<matplotlib.figure.Figure at 0x254d7982be0>"
      ]
     },
     "metadata": {},
     "output_type": "display_data"
    }
   ],
   "source": [
    "labels = {}\n",
    "fontsize={}\n",
    "plt.figure(figsize=(20,20))\n",
    "pos=nx.spring_layout(G2)\n",
    "for node in G2.nodes():\n",
    "    if node in top100_genre:\n",
    "        #set the node name as the key and the label as its value \n",
    "        labels[node] = node       \n",
    "#set the argument 'with labels' to False so you have unlabeled graph\n",
    "nx.draw_networkx_nodes(G2, pos,nodelist=top100_genre,with_labels=False,node_size=0.01)\n",
    "#Now only add labels to the nodes you require (the hubs in my case)\n",
    "nx.draw_networkx_labels(G2,pos,labels,font_size=10,font_color='b')\n",
    "plt.show()"
   ]
  },
  {
   "cell_type": "code",
   "execution_count": null,
   "metadata": {
    "collapsed": true
   },
   "outputs": [],
   "source": []
  },
  {
   "cell_type": "markdown",
   "metadata": {},
   "source": [
    "## Complimentary analysis - Artists Relationships (not finished)"
   ]
  },
  {
   "cell_type": "code",
   "execution_count": 172,
   "metadata": {
    "collapsed": false
   },
   "outputs": [
    {
     "name": "stdout",
     "output_type": "stream",
     "text": [
      "Top 10 artists\n",
      "                    artistname  frequency\n",
      "Britney Spears             931   0.005034\n",
      "Lady Gaga                  767   0.004147\n",
      "Christina Aguilera         762   0.004120\n",
      "Madonna                    730   0.003947\n",
      "Depeche Mode               701   0.003791\n",
      "The Beatles                598   0.003234\n",
      "Muse                       595   0.003217\n",
      "Radiohead                  563   0.003044\n",
      "Rihanna                    528   0.002855\n",
      "Paramore                   467   0.002525\n"
     ]
    }
   ],
   "source": [
    "#Top artists among the dataset\n",
    "user_taggedartists_timestamps=pd.read_table(\"user_taggedartists-timestamps.dat\")\n",
    "top_artists=pd.DataFrame(user_taggedartists['artistname'].value_counts())\n",
    "top_artists['frequency']=top_artists['artistname']/top_artists['artistname'].sum()\n",
    "print(\"Top 10 artists\")\n",
    "print(top_artists[:10])\n"
   ]
  },
  {
   "cell_type": "code",
   "execution_count": 173,
   "metadata": {
    "collapsed": false
   },
   "outputs": [],
   "source": [
    "#We exclude the artists used fewer than 10 times, as \"UNDEFINED\" tag\n",
    "rare_artists=top_artists.loc[top_artists['artistname']<=10]\n",
    "rare_artists_list=top_artists.index.unique()\n",
    "\n",
    "def exclude_rare_artists(row):\n",
    "    if row['artistname'] in rare_tags_list:\n",
    "        val=\"UNDEFINED\"        \n",
    "    else : \n",
    "        val=row['artistname']    \n",
    "    return val\n",
    "    \n",
    "user_taggedartists['artistname']=user_taggedartists.apply(exclude_rare_artists,axis=1)"
   ]
  },
  {
   "cell_type": "code",
   "execution_count": 138,
   "metadata": {
    "collapsed": false
   },
   "outputs": [
    {
     "data": {
      "text/html": [
       "<div>\n",
       "<table border=\"1\" class=\"dataframe\">\n",
       "  <thead>\n",
       "    <tr style=\"text-align: right;\">\n",
       "      <th></th>\n",
       "      <th>index</th>\n",
       "      <th>artistname</th>\n",
       "      <th>userID</th>\n",
       "      <th>artistWeight</th>\n",
       "    </tr>\n",
       "  </thead>\n",
       "  <tbody>\n",
       "    <tr>\n",
       "      <th>0</th>\n",
       "      <td>459</td>\n",
       "      <td>metal</td>\n",
       "      <td>595</td>\n",
       "      <td>30</td>\n",
       "    </tr>\n",
       "    <tr>\n",
       "      <th>1</th>\n",
       "      <td>1941</td>\n",
       "      <td>goth rock</td>\n",
       "      <td>224</td>\n",
       "      <td>12</td>\n",
       "    </tr>\n",
       "    <tr>\n",
       "      <th>2</th>\n",
       "      <td>8164</td>\n",
       "      <td>new wave</td>\n",
       "      <td>1149</td>\n",
       "      <td>12</td>\n",
       "    </tr>\n",
       "  </tbody>\n",
       "</table>\n",
       "</div>"
      ],
      "text/plain": [
       "   index artistname  userID  artistWeight\n",
       "0    459      metal     595            30\n",
       "1   1941  goth rock     224            12\n",
       "2   8164   new wave    1149            12"
      ]
     },
     "execution_count": 138,
     "metadata": {},
     "output_type": "execute_result"
    }
   ],
   "source": [
    "users_artist_weight1=user_taggedartists[['artistname','userID']]\n",
    "\n",
    "def artist_weight(row):\n",
    "    x=users_artist_weight1.loc[users_artist_weight1['userID']==row['userID']]\n",
    "    x=x.loc[x['artistname']==row['artistname']]\n",
    "    val=len(x)\n",
    "    return val\n",
    "\n",
    "users_artist_weight=users_artist_weight1.drop_duplicates().reset_index()\n",
    "users_artist_weight['artistWeight']=users_artist_weight.apply(artist_weight,axis=1)\n",
    "users_artist_weight.head(3)"
   ]
  },
  {
   "cell_type": "code",
   "execution_count": null,
   "metadata": {
    "collapsed": true
   },
   "outputs": [],
   "source": [
    "#We study only the top100 genres used, per frequency\n",
    "top100_artist=list(top_artists.head(100).index)\n",
    "print(top100_artist)"
   ]
  },
  {
   "cell_type": "code",
   "execution_count": null,
   "metadata": {
    "collapsed": true
   },
   "outputs": [],
   "source": [
    "users_artist_weight3=users_artist_weight.loc[users_genre_weight['tagValue'].isin(top100_genre)]\n",
    "len(users_genre_weight3.userID.unique())"
   ]
  }
 ],
 "metadata": {
  "anaconda-cloud": {},
  "kernelspec": {
   "display_name": "Python [conda root]",
   "language": "python",
   "name": "conda-root-py"
  },
  "language_info": {
   "codemirror_mode": {
    "name": "ipython",
    "version": 3
   },
   "file_extension": ".py",
   "mimetype": "text/x-python",
   "name": "python",
   "nbconvert_exporter": "python",
   "pygments_lexer": "ipython3",
   "version": "3.5.2"
  }
 },
 "nbformat": 4,
 "nbformat_minor": 1
}
