{
 "cells": [
  {
   "cell_type": "markdown",
   "metadata": {},
   "source": [
    "# TP : Proximal coordinate descent method on regression models\n",
    "\n",
    "#### Authors: S. Gaiffas, A. Gramfort\n",
    "\n",
    "## Aim\n",
    "\n",
    "The aim of this material is to code \n",
    "- proximal coordinate descent\n",
    "\n",
    "for \n",
    "- Lasso / L1 linear regression\n",
    "- non-negative least squares (NNLS)\n",
    "\n",
    "models.\n",
    "\n",
    "The proximal operators we will use are the \n",
    "- L1 penalization\n",
    "- indicator function of $\\mathbb{R}_+$\n",
    "\n",
    "## VERY IMPORTANT\n",
    "\n",
    "- This work **must be done by pairs of students**.\n",
    "- **Each** student must send their work **before the 23th of october at 23:59**, using the **moodle platform**.\n",
    "- This means that **each student in the pair sends the same file**\n",
    "- On the moodle, in the \"Optimization for Data Science\" course, you have a \"devoir\" section called **Rendu TP du 17 octobre 2016**. This is where you submit your jupyter notebook file. \n",
    "- The **name of the file must be** constructed as in the next cell\n",
    "\n",
    "# Gentle reminder: no evaluation if you don't respect this EXACTLY\n",
    "\n",
    "### How to construct the name of your file"
   ]
  },
  {
   "cell_type": "code",
   "execution_count": 152,
   "metadata": {
    "collapsed": false
   },
   "outputs": [
    {
     "name": "stdout",
     "output_type": "stream",
     "text": [
      "tp_cd_treguer_leo_and_miah_mehdi.ipynb\n"
     ]
    }
   ],
   "source": [
    "# Change here using YOUR first and last names\n",
    "fn1 = \"leo\"\n",
    "ln1 = \"treguer\"\n",
    "fn2 = \"mehdi\"\n",
    "ln2 = \"miah\"\n",
    "\n",
    "filename = \"_\".join(map(lambda s: s.strip().lower(), \n",
    "                        [\"tp_cd\", ln1, fn1, \"and\", ln2, fn2])) + \".ipynb\"\n",
    "print(filename)"
   ]
  },
  {
   "cell_type": "code",
   "execution_count": 151,
   "metadata": {
    "collapsed": true
   },
   "outputs": [],
   "source": [
    "## to embed figures in the notebook\n",
    "%matplotlib inline"
   ]
  },
  {
   "cell_type": "markdown",
   "metadata": {},
   "source": [
    "## Part 0 : Introduction\n",
    "\n",
    "We'll start by generating sparse positive vectors and simulating data\n",
    "\n",
    "### Getting sparse coefficients"
   ]
  },
  {
   "cell_type": "code",
   "execution_count": 41,
   "metadata": {
    "collapsed": true
   },
   "outputs": [],
   "source": [
    "import numpy as np\n",
    "import matplotlib.pyplot as plt\n",
    "\n",
    "np.set_printoptions(precision=2)  # to have simpler print outputs with numpy"
   ]
  },
  {
   "cell_type": "code",
   "execution_count": 140,
   "metadata": {
    "collapsed": false,
    "scrolled": false
   },
   "outputs": [
    {
     "data": {
      "text/plain": [
       "<matplotlib.text.Text at 0x15afda0d0f0>"
      ]
     },
     "execution_count": 140,
     "metadata": {},
     "output_type": "execute_result"
    },
    {
     "data": {
      "image/png": "[encoded data removed]",
      "text/plain": [
       "<matplotlib.figure.Figure at 0x15a848f6ac8>"
      ]
     },
     "metadata": {},
     "output_type": "display_data"
    }
   ],
   "source": [
    "n_features = 50\n",
    "n_samples = 1000\n",
    "idx = np.arange(n_features)\n",
    "coefs = (idx % 2) * np.exp(-idx / 10.)\n",
    "coefs[20:] = 0.\n",
    "plt.stem(coefs)\n",
    "plt.title(\"Parameters / Coefficients\")"
   ]
  },
  {
   "cell_type": "markdown",
   "metadata": {},
   "source": [
    "### Functions for the simulation of the models"
   ]
  },
  {
   "cell_type": "code",
   "execution_count": 141,
   "metadata": {
    "collapsed": false
   },
   "outputs": [],
   "source": [
    "from numpy.random import multivariate_normal\n",
    "from scipy.linalg.special_matrices import toeplitz\n",
    "from numpy.random import randn\n",
    "\n",
    "\n",
    "def simu_linreg(coefs, n_samples=1000, corr=0.5):\n",
    "    \"\"\"Simulation of a linear regression model\n",
    "    \n",
    "    Parameters\n",
    "    ----------\n",
    "    coefs : `numpy.array`, shape=(n_features,)\n",
    "        Coefficients of the model\n",
    "    \n",
    "    n_samples : `int`, default=1000\n",
    "        Number of samples to simulate\n",
    "    \n",
    "    corr : `float`, default=0.5\n",
    "        Correlation of the features\n",
    "\n",
    "    Returns\n",
    "    -------\n",
    "    A : `numpy.ndarray`, shape=(n_samples, n_features)\n",
    "        Simulated features matrix. It samples of a centered Gaussian \n",
    "        vector with covariance given by the Toeplitz matrix\n",
    "    \n",
    "    b : `numpy.array`, shape=(n_samples,)\n",
    "        Simulated labels\n",
    "    \"\"\"\n",
    "    # Construction of a covariance matrix\n",
    "    cov = toeplitz(corr ** np.arange(0, n_features))\n",
    "    # Simulation of features\n",
    "    A = multivariate_normal(np.zeros(n_features), cov, size=n_samples)\n",
    "    # Simulation of the labels\n",
    "    b = A.dot(coefs) + randn(n_samples)\n",
    "    return A, b"
   ]
  },
  {
   "cell_type": "markdown",
   "metadata": {},
   "source": [
    "## Proximal operators and Solver\n"
   ]
  },
  {
   "cell_type": "markdown",
   "metadata": {},
   "source": [
    "We remind that the proximal operator of a fonction $g$ is given by:\n",
    "\n",
    "$$\n",
    "\\text{prox}_g(y, t) = \\arg\\min_x \\Big\\{ \\frac 12 \\|x - y\\|_2^2 + t g(x) \\Big\\}.\n",
    "$$\n",
    "\n",
    "where $t \\geq 0$ is a non-negative number.\n",
    "We have in mind to use the following cases\n",
    "\n",
    "- Lasso penalization, where $g(x) = s \\|x\\|_1$\n",
    "- Indicator function of $\\mathbb{R}_+$, where $g(x) = i_{x \\geq 0}(\\cdot)$\n",
    "\n",
    "where $s \\geq 0$ is a regularization parameter."
   ]
  },
  {
   "cell_type": "markdown",
   "metadata": {},
   "source": [
    "We want to minimize:\n",
    "$$\n",
    "\\arg\\min_x F(x)\n",
    "$$\n",
    "with\n",
    "$$\n",
    " F(x) = \\frac{1}{2} \\|b - Ax\\|^2 + g(x)\n",
    "$$\n",
    "\n",
    "## Questions\n",
    "\n",
    "- Code a function that computes $g(x)$ and $\\text{prox}_g(x)$ for in both cases\n",
    "- Justify why proximal coordinate descent can be applied to obtain a minimum of such objective functions.\n",
    "- Starting from the code provided in the notebook presented during the coordinate descent course as well as the code below, implement a proximal coordinate method for both penalties.\n",
    "- Evaluate qualitatively the convergence when varying the conditioning of the problem.\n",
    "- Bonus: Try to show that coordinate is much less affected by bad conditioning than proximal gradient descent.\n",
    "\n",
    "### You are expected to implement the smart residuals updates !\n",
    "\n",
    "### You are very welcome to reuse everything you did for TP1 !"
   ]
  },
  {
   "cell_type": "markdown",
   "metadata": {},
   "source": [
    "### Question 1/5 : \n",
    "Computing $g(x)$ and $\\text{prox}_g(x)$ in both cases"
   ]
  },
  {
   "cell_type": "markdown",
   "metadata": {},
   "source": [
    "#### Case when g is the Lasso penalization"
   ]
  },
  {
   "cell_type": "code",
   "execution_count": 142,
   "metadata": {
    "collapsed": false
   },
   "outputs": [],
   "source": [
    "def lasso(x,s):\n",
    "    \"\"\"Value of the Lasso penalization at x\"\"\"\n",
    "    return s*np.linalg.norm(x, ord=1)\n",
    "\n",
    "def prox_lasso(x, s, t=1.):\n",
    "    \"\"\"Proximal operator for the Lasso at x with strength t\"\"\"  \n",
    "    return np.sign(x) * np.maximum(np.abs(x) - s*t,0)\n"
   ]
  },
  {
   "cell_type": "markdown",
   "metadata": {},
   "source": [
    "#### Case when g is the indicator function"
   ]
  },
  {
   "cell_type": "code",
   "execution_count": 143,
   "metadata": {
    "collapsed": true
   },
   "outputs": [],
   "source": [
    "import math\n",
    "\n",
    "def indicator(x,s):\n",
    "    \"\"\"Value of the indicator penalization at x\"\"\"\n",
    "    minimum = np.min(x)\n",
    "    if minimum < 0:\n",
    "        res = math.inf\n",
    "    else:\n",
    "        res = 0\n",
    "    return res\n",
    "\n",
    "def prox_indicator(x, s, t=1.):\n",
    "    \"\"\"Proximal operator for the Lasso at x with strength t\"\"\"  \n",
    "    return np.maximum(x, 0)\n"
   ]
  },
  {
   "cell_type": "markdown",
   "metadata": {},
   "source": [
    "Plot of the proximal operators\n"
   ]
  },
  {
   "cell_type": "code",
   "execution_count": 144,
   "metadata": {
    "collapsed": false
   },
   "outputs": [
    {
     "data": {
      "image/png": "[encoded data removed]",
      "text/plain": [
       "<matplotlib.figure.Figure at 0x15a86b05208>"
      ]
     },
     "metadata": {},
     "output_type": "display_data"
    }
   ],
   "source": [
    "x = randn(1000)\n",
    "\n",
    "x_barlasso = prox_lasso(x, 0.5, 2)\n",
    "x_barindic=prox_indicator(x,0.5,2)\n",
    "plasso=plt.scatter(x = x, y = x_barlasso,color='red',label='prox_lasso')\n",
    "pindic=plt.scatter(x=x,y=x_barindic,color='blue',label=\"prox_indicator\")\n",
    "\n",
    "plt.legend(handles=[plasso,pindic])\n",
    "\n",
    "plt.show()"
   ]
  },
  {
   "cell_type": "markdown",
   "metadata": {},
   "source": [
    "Influence on coefficients"
   ]
  },
  {
   "cell_type": "code",
   "execution_count": 145,
   "metadata": {
    "collapsed": false
   },
   "outputs": [
    {
     "data": {
      "text/plain": [
       "(-2, 2)"
      ]
     },
     "execution_count": 145,
     "metadata": {},
     "output_type": "execute_result"
    },
    {
     "data": {
      "image/png": "[encoded data removed]",
      "text/plain": [
       "<matplotlib.figure.Figure at 0x15a848f67f0>"
      ]
     },
     "metadata": {},
     "output_type": "display_data"
    }
   ],
   "source": [
    "x = randn(50)\n",
    "l_l1 = 1.\n",
    "l_l2 = 2\n",
    "\n",
    "plt.figure(figsize=(15.0, 4.0))\n",
    "plt.subplot(1, 3, 1)\n",
    "plt.stem(x)\n",
    "plt.title(\"Original parameter\", fontsize=16)\n",
    "plt.ylim([-2, 2])\n",
    "plt.subplot(1, 3, 2)\n",
    "plt.stem(prox_lasso(x, s=l_l1,t=1))\n",
    "plt.title(\"Proximal Lasso\", fontsize=16)\n",
    "plt.ylim([-2, 2])\n",
    "plt.subplot(1, 3, 3)\n",
    "plt.stem(prox_indicator(x, s=l_l2,t=1))\n",
    "plt.title(\"Proximal Indicator\", fontsize=16)\n",
    "plt.ylim([-2, 2])"
   ]
  },
  {
   "cell_type": "markdown",
   "metadata": {},
   "source": [
    "### Question 2/5 \n",
    "- Justify why proximal coordinate descent can be applied to obtain a minimum of such objective functions."
   ]
  },
  {
   "cell_type": "markdown",
   "metadata": {},
   "source": [
    "We consider $F(x)=\\frac{1}{2} \\|b - Ax\\|^2 + g(x)=f(x)+g(x)$\n",
    "\n",
    "The f function is convex and diffentiable.\n",
    "\n",
    "The g function is convex in both cases."
   ]
  },
  {
   "cell_type": "markdown",
   "metadata": {},
   "source": [
    "### Question 3/5 \n",
    "- Starting from the code provided in the notebook presented during the coordinate descent course as well as the code below, implement a proximal coordinate method for both penalties."
   ]
  },
  {
   "cell_type": "code",
   "execution_count": 146,
   "metadata": {
    "collapsed": false
   },
   "outputs": [],
   "source": [
    "def cd_linreg(x0, A, b, g, prox_g, s=0., n_iter=50,\n",
    "              x_true=coefs, verbose=True):\n",
    "    \"\"\"Proximal gradient descent algorithm\n",
    "\n",
    "    Minimize :\n",
    "    \n",
    "    1/2 ||b−Ax||^2 + s * g(x)\n",
    "    \n",
    "    with coordinate descent.\n",
    "    \"\"\"\n",
    "    x = x0.copy()\n",
    "    x_new = x0.copy()\n",
    "    n_samples, n_features = A.shape\n",
    "\n",
    "    # estimation error history\n",
    "    errors = []\n",
    "    # objective history\n",
    "    objectives = []\n",
    "    # Current estimation error\n",
    "    err = np.linalg.norm(x - x_true) / np.linalg.norm(x_true)\n",
    "    errors.append(err)\n",
    "    # Current objective\n",
    "    obj = 0.5 * np.linalg.norm(b - A.dot(x))**2 + g(x, s)\n",
    "    objectives.append(obj)\n",
    "\n",
    "    if verbose:\n",
    "        print(\"Lauching Coordinate Descent solver...\")\n",
    "        print(' | '.join([name.center(8) for name in [\"it\", \"obj\", \"err\"]]))\n",
    "\n",
    "    #computing all the values of the denominator\n",
    "    #We compute the denominator outside the for loop for optim\n",
    "        \n",
    "    denum_i = [np.dot(A[:,i], A[:,i]) for i in range(n_features)]\n",
    "        \n",
    "    for k in range(n_iter + 1):\n",
    "\n",
    "        #modulo\n",
    "        i = k % n_features\n",
    "        \n",
    "        #We implement the smart residuals update\n",
    "        r = b - np.dot(A,x)\n",
    "        ai = A[:,i]\n",
    "        num = np.dot(ai, r)\n",
    "        denum = denum_i[i]\n",
    "        \n",
    "        #update\n",
    "        x[i] += prox_g(num/denum, s)   \n",
    "        \n",
    "        \n",
    "        obj = 0.5 * np.linalg.norm(b - A.dot(x))**2 + g(x, s)\n",
    "        err = np.linalg.norm(x - x_true) / np.linalg.norm(x_true)\n",
    "        errors.append(err)\n",
    "        objectives.append(obj)\n",
    "        if k % 10 == 0 and verbose:\n",
    "            print(' | '.join([(\"%d\" % k).rjust(8), \n",
    "                              (\"%.2e\" % obj).rjust(8), \n",
    "                              (\"%.2e\" % err).rjust(8)])\n",
    "                 )\n",
    "    return x, objectives, np.array(errors)"
   ]
  },
  {
   "cell_type": "code",
   "execution_count": 148,
   "metadata": {
    "collapsed": false
   },
   "outputs": [
    {
     "name": "stdout",
     "output_type": "stream",
     "text": [
      "Test with Indicator function\n",
      "Lauching Coordinate Descent solver...\n",
      "   it    |   obj    |   err   \n",
      "       0 | 2.11e+03 | 1.07e+00\n",
      "      10 | 1.04e+03 | 6.78e-01\n",
      "      20 | 9.04e+02 | 6.15e-01\n",
      "      30 | 9.03e+02 | 6.16e-01\n",
      "      40 | 8.98e+02 | 6.19e-01\n",
      "      50 | 8.98e+02 | 6.19e-01\n",
      "      60 | 8.98e+02 | 6.19e-01\n",
      "      70 | 8.98e+02 | 6.19e-01\n",
      "      80 | 8.98e+02 | 6.19e-01\n",
      "      90 | 8.98e+02 | 6.19e-01\n",
      "     100 | 8.98e+02 | 6.19e-01\n",
      "Lauching Coordinate Descent solver...\n",
      "   it    |   obj    |   err   \n",
      "       0 | 2.11e+03 | 1.05e+00\n",
      "      10 | 8.74e+02 | 6.17e-01\n",
      "      20 | 7.02e+02 | 5.43e-01\n",
      "      30 | 7.02e+02 | 5.43e-01\n",
      "      40 | 7.02e+02 | 5.43e-01\n",
      "      50 | 5.89e+02 | 4.41e-01\n",
      "      60 | 5.37e+02 | 3.63e-01\n",
      "      70 | 5.37e+02 | 3.63e-01\n",
      "      80 | 5.37e+02 | 3.63e-01\n",
      "      90 | 5.37e+02 | 3.63e-01\n",
      "     100 | 5.37e+02 | 3.63e-01\n"
     ]
    }
   ],
   "source": [
    "# Some definitions before launching the algorithms\n",
    "x0 = np.zeros(n_features)\n",
    "n_iter = 100\n",
    "s = 1e-1\n",
    "\n",
    "#Generating A and b\n",
    "A, b = simu_linreg(coefs, n_samples=1000, corr=0.5)\n",
    "\n",
    "#Test with Indicator function\n",
    "print(\"Test with Indicator function\")\n",
    "x_ind, obj_ind,err_ind = cd_linreg(x0, A, b, indicator, prox_indicator, s, n_iter, x_true=coefs, verbose=True)\n",
    "\n",
    "#Test with the Lasso function\n",
    "x_lasso, obj_lasso,err_lasso = cd_linreg(x0, A, b, lasso, prox_lasso, s, n_iter, x_true=coefs, verbose=True)\n"
   ]
  },
  {
   "cell_type": "code",
   "execution_count": 149,
   "metadata": {
    "collapsed": false
   },
   "outputs": [
    {
     "data": {
      "text/plain": [
       "<matplotlib.text.Text at 0x15a89bbbeb8>"
      ]
     },
     "execution_count": 149,
     "metadata": {},
     "output_type": "execute_result"
    },
    {
     "data": {
      "image/png": "[encoded data removed]",
      "text/plain": [
       "<matplotlib.figure.Figure at 0x15a867e46d8>"
      ]
     },
     "metadata": {},
     "output_type": "display_data"
    }
   ],
   "source": [
    "plt.figure(figsize=(15.0, 15.0))\n",
    "\n",
    "plt.subplot(2, 3, 1)\n",
    "plt.stem(obj_ind)\n",
    "plt.title(\"Objective with indicator\", fontsize=16)\n",
    "\n",
    "plt.subplot(2, 3, 2)\n",
    "plt.stem(err_ind)\n",
    "plt.title(\"Error with indicator\", fontsize=16)\n",
    "\n",
    "plt.subplot(2, 3, 3)\n",
    "plt.stem(x_ind)\n",
    "plt.title(\"x with indicator\", fontsize=16)\n",
    "\n",
    "plt.subplot(2, 3, 4)\n",
    "plt.stem(obj_lasso)\n",
    "plt.title(\"Objective with Lasso\", fontsize=16)\n",
    "\n",
    "plt.subplot(2, 3, 5)\n",
    "plt.stem(err_lasso)\n",
    "plt.title(\"Error with Lasso\", fontsize=16)\n",
    "\n",
    "plt.subplot(2, 3, 6)\n",
    "plt.stem(x_lasso)\n",
    "plt.title(\"x with Lasso\", fontsize=16)"
   ]
  },
  {
   "cell_type": "markdown",
   "metadata": {},
   "source": [
    "Regarding the objective, we notice that the convergence is slightly faster with the indicator function than with the  lasso function since we see a \"bump\" around the 50th iteration of the algorithm with the lasso function.\n",
    "\n",
    "We notice the same thing for the error. \n",
    "\n",
    "We compare the original parameters with the ones obtained with both the indicator function and the lasso function."
   ]
  },
  {
   "cell_type": "code",
   "execution_count": 150,
   "metadata": {
    "collapsed": false
   },
   "outputs": [
    {
     "data": {
      "text/plain": [
       "(-0.2, 1)"
      ]
     },
     "execution_count": 150,
     "metadata": {},
     "output_type": "execute_result"
    },
    {
     "data": {
      "image/png": "[encoded data removed]",
      "text/plain": [
       "<matplotlib.figure.Figure at 0x15afc67d6a0>"
      ]
     },
     "metadata": {},
     "output_type": "display_data"
    }
   ],
   "source": [
    "#Comparison of coefficients\n",
    "\n",
    "plt.figure(figsize=(15.0, 4.0))\n",
    "\n",
    "plt.subplot(1, 3, 1)\n",
    "plt.stem(coefs)\n",
    "plt.title(\"Original parameter\", fontsize=16)\n",
    "plt.ylim([-0.2, 1])\n",
    "\n",
    "plt.subplot(1, 3, 2)\n",
    "plt.stem(x_lasso)\n",
    "plt.title(\"Proximal Lasso\", fontsize=16)\n",
    "plt.ylim([-0.2, 1])\n",
    "\n",
    "plt.subplot(1, 3, 3)\n",
    "plt.stem(x_ind)\n",
    "plt.title(\"Proximal Indicator\", fontsize=16)\n",
    "plt.ylim([-0.2, 1])"
   ]
  },
  {
   "cell_type": "markdown",
   "metadata": {},
   "source": [
    "### Question 4/5\n",
    "- Evaluate qualitatively the convergence when varying the conditioning of the problem."
   ]
  },
  {
   "cell_type": "markdown",
   "metadata": {
    "collapsed": true
   },
   "source": [
    "We can evaluate the determinant of $A^TA$ as a function of the correlation term in $A$."
   ]
  },
  {
   "cell_type": "code",
   "execution_count": 4,
   "metadata": {
    "collapsed": false
   },
   "outputs": [
    {
     "ename": "NameError",
     "evalue": "name 'np' is not defined",
     "output_type": "error",
     "traceback": [
      "\u001b[1;31m---------------------------------------------------------------------------\u001b[0m",
      "\u001b[1;31mNameError\u001b[0m                                 Traceback (most recent call last)",
      "\u001b[1;32m<ipython-input-4-4f42e457781c>\u001b[0m in \u001b[0;36m<module>\u001b[1;34m()\u001b[0m\n\u001b[1;32m----> 1\u001b[1;33m \u001b[0mcorr_x\u001b[0m \u001b[1;33m=\u001b[0m \u001b[1;36m0.999\u001b[0m\u001b[1;33m+\u001b[0m \u001b[0mnp\u001b[0m\u001b[1;33m.\u001b[0m\u001b[0marange\u001b[0m\u001b[1;33m(\u001b[0m\u001b[1;36m10\u001b[0m\u001b[1;33m)\u001b[0m\u001b[1;33m/\u001b[0m\u001b[1;36m10000\u001b[0m\u001b[1;33m\u001b[0m\u001b[0m\n\u001b[0m\u001b[0;32m      2\u001b[0m \u001b[0mdeterminant\u001b[0m \u001b[1;33m=\u001b[0m \u001b[0mlist\u001b[0m\u001b[1;33m(\u001b[0m\u001b[1;33m)\u001b[0m\u001b[1;33m\u001b[0m\u001b[0m\n\u001b[0;32m      3\u001b[0m \u001b[1;33m\u001b[0m\u001b[0m\n\u001b[0;32m      4\u001b[0m \u001b[1;32mfor\u001b[0m \u001b[0mi\u001b[0m \u001b[1;32min\u001b[0m \u001b[0mrange\u001b[0m\u001b[1;33m(\u001b[0m\u001b[0mlen\u001b[0m\u001b[1;33m(\u001b[0m\u001b[0mcorr_x\u001b[0m\u001b[1;33m)\u001b[0m\u001b[1;33m)\u001b[0m\u001b[1;33m:\u001b[0m\u001b[1;33m\u001b[0m\u001b[0m\n\u001b[0;32m      5\u001b[0m     \u001b[0mA\u001b[0m\u001b[1;33m,\u001b[0m \u001b[0mb\u001b[0m \u001b[1;33m=\u001b[0m \u001b[0msimu_linreg\u001b[0m\u001b[1;33m(\u001b[0m\u001b[0mcoefs\u001b[0m\u001b[1;33m,\u001b[0m \u001b[0mn_samples\u001b[0m\u001b[1;33m=\u001b[0m\u001b[1;36m1000\u001b[0m\u001b[1;33m,\u001b[0m \u001b[0mcorr\u001b[0m\u001b[1;33m=\u001b[0m\u001b[0mcorr_x\u001b[0m\u001b[1;33m[\u001b[0m\u001b[0mi\u001b[0m\u001b[1;33m]\u001b[0m\u001b[1;33m)\u001b[0m\u001b[1;33m\u001b[0m\u001b[0m\n",
      "\u001b[1;31mNameError\u001b[0m: name 'np' is not defined"
     ]
    }
   ],
   "source": [
    "corr_x = 0.999+ np.arange(10)/10000\n",
    "determinant = list()\n",
    "\n",
    "for i in range(len(corr_x)):\n",
    "    A, b = simu_linreg(coefs, n_samples=1000, corr=corr_x[i])\n",
    "    det = np.linalg.det(np.dot(np.transpose(A), A))\n",
    "    determinant.append(det)\n",
    "\n",
    "plt.figure(figsize=(20.0, 8.0))\n",
    "plt.semilogy(corr_x, determinant)\n",
    "plt.xlabel('Correlation in A')\n",
    "plt.ylabel('Determinant of the square matrix')"
   ]
  },
  {
   "cell_type": "markdown",
   "metadata": {},
   "source": [
    "We observe that the greater the correlation is in A, the lower the determinant of $A^TA$ is. Therefore, this square matrix is no longer invertible."
   ]
  },
  {
   "cell_type": "code",
   "execution_count": null,
   "metadata": {
    "collapsed": true
   },
   "outputs": [],
   "source": [
    "# Some definitions before launching the algorithms\n",
    "x0 = np.zeros(n_features)\n",
    "n_iter = 150\n",
    "s = 1e-1\n",
    "\n",
    "corr_x = 0.9+ np.arange(10)/100\n",
    "err_corr = []\n",
    "\n",
    "for i in range(len(corr_x)):\n",
    "\n",
    "    #Generating A and b\n",
    "    A, b = simu_linreg(coefs, n_samples=1000, corr=corr_x[i])\n",
    "\n",
    "    #Test with the Lasso function\n",
    "    x_lasso, obj_lasso,err_lasso = cd_linreg(x0, A, b, lasso, prox_lasso, s, n_iter, x_true=coefs, verbose=False)\n",
    "    \n",
    "    #Collect error\n",
    "    err_corr.append(err_lasso)"
   ]
  },
  {
   "cell_type": "code",
   "execution_count": null,
   "metadata": {
    "collapsed": true
   },
   "outputs": [],
   "source": [
    "plt.figure(figsize=(20.0, 8.0))\n",
    "\n",
    "for i in range(len(corr_x)):\n",
    "\n",
    "    plt.plot(err_corr[i], label = corr_x[i])\n",
    "    plt.legend()"
   ]
  },
  {
   "cell_type": "markdown",
   "metadata": {},
   "source": [
    "### Question 5/5 (bonus)\n",
    "\n",
    "- Bonus: Try to show that coordinate is much less affected by bad conditioning than proximal gradient descent."
   ]
  },
  {
   "cell_type": "markdown",
   "metadata": {
    "collapsed": true
   },
   "source": [
    "We will reuse the code from the TP1 : "
   ]
  },
  {
   "cell_type": "code",
   "execution_count": null,
   "metadata": {
    "collapsed": true
   },
   "outputs": [],
   "source": [
    "def prox_lasso(x, s, t=1.):\n",
    "    \"\"\"Proximal operator for the Lasso at x with strength t\"\"\"  \n",
    "    return np.sign(x) * np.maximum(np.abs(x) - s*t,0)\n",
    "    \n",
    "def lasso(x, s):\n",
    "    \"\"\"Value of the Lasso penalization at x with strength t\"\"\"\n",
    "    return s * np.linalg.norm(x, ord=1)\n",
    "\n",
    "def loss_linreg(x):\n",
    "    \"\"\"Least-squares loss\"\"\"\n",
    "    n = len(x)\n",
    "    res = 1/(2*n) * np.linalg.norm(b-np.dot(A,x), ord=2)**2\n",
    "    return(res)\n",
    "\n",
    "def grad_linreg(x):\n",
    "    \"\"\"Leas-squares gradient\"\"\"\n",
    "    n = len(x)\n",
    "    res = 1/n * np.dot(np.transpose(A),np.dot(A,x)-b)\n",
    "    return(res)\n",
    "\n",
    "def lip_linreg(A):\n",
    "    \"\"\"Lipschitz constant for linear squares loss\"\"\"    \n",
    "    res = np.linalg.norm(np.dot(np.transpose(A),A), ord = 2)/len(A[1,])\n",
    "    return(res)\n",
    "\n",
    "def ista(x0, f, grad_f, g, prox_g, step, s=0., n_iter=50,\n",
    "         x_true=coefs, verbose=True):\n",
    "    \"\"\"Proximal gradient descent algorithm\n",
    "    \"\"\"\n",
    "    x = x0.copy()\n",
    "    x_new = x0.copy()\n",
    "    n_samples, n_features = A.shape\n",
    "\n",
    "    # estimation error history\n",
    "    errors = []\n",
    "    # objective history\n",
    "    objectives = []\n",
    "    # Current estimation error\n",
    "    err = np.linalg.norm(x - x_true, ord = 2) / np.linalg.norm(x_true, ord = 2)\n",
    "    errors.append(err)\n",
    "    # Current objective\n",
    "    obj = f(x) + g(x, s)\n",
    "    objectives.append(obj)\n",
    "    \n",
    "    if verbose:\n",
    "        print(\"Lauching ISTA solver...\")\n",
    "        print(' | '.join([name.center(8) for name in [\"it\", \"obj\", \"err\"]]))\n",
    "        \n",
    "    for k in range(n_iter + 1):\n",
    "\n",
    "        x = prox_g(x - step * grad_f(x), s, step)\n",
    "\n",
    "        obj = f(x) + g(x, s)\n",
    "        err = np.linalg.norm(x - x_true, ord = 2) / np.linalg.norm(x_true, ord = 2)\n",
    "        errors.append(err)\n",
    "        objectives.append(obj)\n",
    "        if k % 10 == 0 and verbose:\n",
    "            print(' | '.join([(\"%d\" % k).rjust(8), \n",
    "                              (\"%.2e\" % obj).rjust(8), \n",
    "                              (\"%.2e\" % err).rjust(8)])\n",
    "            )\n",
    "    return x, objectives, errors"
   ]
  },
  {
   "cell_type": "code",
   "execution_count": null,
   "metadata": {
    "collapsed": true
   },
   "outputs": [],
   "source": [
    "# Some definitions before launching the algorithms\n",
    "x0 = np.zeros(n_features)\n",
    "n_iter = 300\n",
    "s = 1e-1\n",
    "\n",
    "corr_x = 0.995+ np.arange(5)/1000\n",
    "err_corr_dc = []\n",
    "err_corr_pdg = []\n",
    "\n",
    "for i in range(len(corr_x)):\n",
    "\n",
    "    #Generating A and b\n",
    "    A, b = simu_linreg(coefs, n_samples=1000, corr=corr_x[i])\n",
    "\n",
    "    #Test with the Lasso function, descent coordinate\n",
    "    x_dc, obj_dc,err_dc = cd_linreg(x0, A, b, lasso, prox_lasso, s, n_iter, x_true=coefs, verbose=False)\n",
    "    \n",
    "    #Test with the Lasso function, proximal descent gradient\n",
    "    step = 1/lip_linreg(A)\n",
    "    x_pdg, obj_pdg,err_pdg = ista(x0, loss_linreg, grad_linreg, lasso, prox_lasso, step, s, n_iter,x_true=coefs, verbose=False)\n",
    "    \n",
    "    #Collect error\n",
    "    err_corr_dc.append(err_dc)\n",
    "    err_corr_pdg.append(err_pdg)"
   ]
  },
  {
   "cell_type": "code",
   "execution_count": null,
   "metadata": {
    "collapsed": true
   },
   "outputs": [],
   "source": [
    "plt.figure(figsize=(20.0, 8.0))\n",
    "\n",
    "for i in range(len(corr_x)):\n",
    "\n",
    "    plt.plot(err_corr_dc[i], label = corr_x[i])\n",
    "    plt.plot(err_corr_pdg[i], label = corr_x[i])\n",
    "    plt.legend()"
   ]
  }
 ],
 "metadata": {
  "kernelspec": {
   "display_name": "Python 3",
   "language": "python",
   "name": "python3"
  },
  "language_info": {
   "codemirror_mode": {
    "name": "ipython",
    "version": 3
   },
   "file_extension": ".py",
   "mimetype": "text/x-python",
   "name": "python",
   "nbconvert_exporter": "python",
   "pygments_lexer": "ipython3",
   "version": "3.4.3"
  },
  "widgets": {
   "state": {},
   "version": "1.1.2"
  }
 },
 "nbformat": 4,
 "nbformat_minor": 0
}
